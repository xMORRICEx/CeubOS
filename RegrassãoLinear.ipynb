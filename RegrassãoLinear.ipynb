{
  "nbformat": 4,
  "nbformat_minor": 0,
  "metadata": {
    "colab": {
      "name": "RegrassãoLinear.ipynb",
      "provenance": [],
      "authorship_tag": "ABX9TyNf7ZPXaLtafq9x3+cKgp8J",
      "include_colab_link": true
    },
    "kernelspec": {
      "name": "python3",
      "display_name": "Python 3"
    },
    "language_info": {
      "name": "python"
    }
  },
  "cells": [
    {
      "cell_type": "markdown",
      "metadata": {
        "id": "view-in-github",
        "colab_type": "text"
      },
      "source": [
        "<a href=\"https://colab.research.google.com/github/xMORRICEx/CeubOS/blob/master/Regrass%C3%A3oLinear.ipynb\" target=\"_parent\"><img src=\"https://colab.research.google.com/assets/colab-badge.svg\" alt=\"Open In Colab\"/></a>"
      ]
    },
    {
      "cell_type": "code",
      "execution_count": 8,
      "metadata": {
        "id": "vrysi2tWdnI4",
        "colab": {
          "base_uri": "https://localhost:8080/"
        },
        "outputId": "91a946ef-241c-4bd7-f5d6-d530d0829386"
      },
      "outputs": [
        {
          "output_type": "stream",
          "name": "stdout",
          "text": [
            "Quantidade de linhas do data frame: 21613\n",
            "Quantidade de colunas do dataFrame: 21\n"
          ]
        }
      ],
      "source": [
        "import pandas as pd\n",
        "dataFrame = pd.read_csv (\"/content/kc_house_data.csv\")\n",
        "print(\"Quantidade de linhas do data frame:\", len(dataFrame))\n",
        "print(\"Quantidade de colunas do dataFrame:\", len(dataFrame.columns))\n"
      ]
    },
    {
      "cell_type": "code",
      "source": [
        "dataFrame.dtypes"
      ],
      "metadata": {
        "colab": {
          "base_uri": "https://localhost:8080/"
        },
        "id": "5ew48vU6LFRb",
        "outputId": "ebe51caf-b098-4f40-c00d-1477668b958f"
      },
      "execution_count": 9,
      "outputs": [
        {
          "output_type": "execute_result",
          "data": {
            "text/plain": [
              "id                 int64\n",
              "date              object\n",
              "price            float64\n",
              "bedrooms           int64\n",
              "bathrooms        float64\n",
              "sqft_living        int64\n",
              "sqft_lot           int64\n",
              "floors           float64\n",
              "waterfront         int64\n",
              "view               int64\n",
              "condition          int64\n",
              "grade              int64\n",
              "sqft_above         int64\n",
              "sqft_basement      int64\n",
              "yr_built           int64\n",
              "yr_renovated       int64\n",
              "zipcode            int64\n",
              "lat              float64\n",
              "long             float64\n",
              "sqft_living15      int64\n",
              "sqft_lot15         int64\n",
              "dtype: object"
            ]
          },
          "metadata": {},
          "execution_count": 9
        }
      ]
    }
  ]
}